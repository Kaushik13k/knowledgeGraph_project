{
  "nbformat": 4,
  "nbformat_minor": 0,
  "metadata": {
    "colab": {
      "name": "networkGraph.ipynb",
      "provenance": [],
      "collapsed_sections": []
    },
    "kernelspec": {
      "name": "python3",
      "display_name": "Python 3"
    },
    "language_info": {
      "name": "python"
    }
  },
  "cells": [
    {
      "cell_type": "code",
      "metadata": {
        "id": "rOVOUC8V5_BM"
      },
      "source": [
        "### Knowledge graph\n",
        "import spacy\n",
        "nlp = spacy.load(\"en_core_web_sm\")"
      ],
      "execution_count": 1,
      "outputs": []
    },
    {
      "cell_type": "code",
      "metadata": {
        "id": "tLdjLSWQ6AaA",
        "colab": {
          "base_uri": "https://localhost:8080/"
        },
        "outputId": "0d70dba4-b722-4ae2-ccf5-996f02b6b643"
      },
      "source": [
        "# f = open(path, \"r\")\n",
        "# print(f.read())\n",
        "# # for x in f:\n",
        "# # #   print(x.split(\",\"))\n",
        "# #     list_sent = x.split(\",\")\n",
        "\n",
        "    \n",
        "sent = \"kaushik likes to play cricket\"\n",
        "sent2 = \"kaushik is studying Engineering\"\n",
        "sent3 = \"kaushik stays in House\"\n",
        "list_sent = ['kaushik likes to play cricket','kaushik is studying Engineering', 'kaushik stays in mangalore','cricket is the best']\n",
        "triple_list = []\n",
        "for i in list_sent:\n",
        "    doc = nlp(i)\n",
        "#     print(i)\n",
        "    for token in doc:\n",
        "        temp_list = []\n",
        "#         print(token.text, token.dep_)\n",
        "\n",
        "        if 'subj' in token.dep_ or 'compound' in token.dep_:\n",
        "            n1 = token.text\n",
        "        if 'obj' in token.dep_:\n",
        "            n2 = token.text\n",
        "        if 'ROOT' in token.dep_:\n",
        "            e = token.text\n",
        "    temp_list.append(n1)\n",
        "    temp_list.append(e)\n",
        "    temp_list.append(n2)\n",
        "    triple_list.append(temp_list)\n",
        "print(triple_list)\n",
        "# [[kaushik ,is studying ,Engineering],[kaushik ,likes to play ,cricket],[kaushik ,stays in ,mangalore]]      \n"
      ],
      "execution_count": 2,
      "outputs": [
        {
          "output_type": "stream",
          "name": "stdout",
          "text": [
            "[['kaushik', 'likes', 'cricket'], ['kaushik', 'studying', 'Engineering'], ['kaushik', 'stays', 'mangalore'], ['cricket', 'is', 'mangalore']]\n"
          ]
        }
      ]
    },
    {
      "cell_type": "code",
      "metadata": {
        "id": "HeKR6NV16DIa",
        "colab": {
          "base_uri": "https://localhost:8080/",
          "height": 336
        },
        "outputId": "3243f1a3-08f4-4f02-cf21-80e79c2b6c16"
      },
      "source": [
        "import matplotlib.pyplot as plt\n",
        "import networkx as nx\n",
        "input_ng = triple_list\n",
        "label_edge = {}\n",
        "G = nx.DiGraph()\n",
        "for i in input_ng:\n",
        "    G.add_node(i[0])\n",
        "    G.add_node(i[2])\n",
        "    G.add_edge(i[0], i[2])\n",
        "    label_edge[(i[0], i[2])] = i[1]\n",
        "print(label_edge)\n",
        "pos = nx.spring_layout(G)\n",
        "plt.figure()\n",
        "nx.draw(G, with_labels=True, node_size=1000, node_color='cyan', node_shape='o') #with_labels to get the names\n",
        "nx.draw_networkx_edge_labels(G,pos ,edge_labels = label_edge, font_color='red')\n",
        "plt.show()"
      ],
      "execution_count": 3,
      "outputs": [
        {
          "output_type": "stream",
          "name": "stdout",
          "text": [
            "{('kaushik', 'cricket'): 'likes', ('kaushik', 'Engineering'): 'studying', ('kaushik', 'mangalore'): 'stays', ('cricket', 'mangalore'): 'is'}\n"
          ]
        },
        {
          "output_type": "display_data",
          "data": {
            "text/plain": [
              "<Figure size 432x288 with 1 Axes>"
            ],
            "image/png": "[encoded data removed]"
          },
          "metadata": {}
        }
      ]
    },
    {
      "cell_type": "code",
      "metadata": {
        "id": "JSdwuYJT6E9V",
        "colab": {
          "base_uri": "https://localhost:8080/"
        },
        "outputId": "3c9cb188-3944-446f-a857-81d9885c1bbe"
      },
      "source": [
        "user_ip = input(\"give a word!\\n\") "
      ],
      "execution_count": 4,
      "outputs": [
        {
          "name": "stdout",
          "output_type": "stream",
          "text": [
            "give a word!\n",
            "cricket\n"
          ]
        }
      ]
    },
    {
      "cell_type": "code",
      "metadata": {
        "colab": {
          "base_uri": "https://localhost:8080/"
        },
        "id": "GqZ8Xsre6JHs",
        "outputId": "1a785fc9-13a1-4956-cdbe-87ceab15c569"
      },
      "source": [
        "def get_relationship(word, lable_edge):\n",
        "    related_terms_list = []\n",
        "    \n",
        "    for item_tuple, relationship in lable_edge.items():\n",
        "        if word in item_tuple:\n",
        "            k = []\n",
        "            k.extend(item_tuple)\n",
        "#             k.remove(word)\n",
        "            k.append(relationship)\n",
        "            \n",
        "            related_terms_list.append(k)\n",
        "    \n",
        "    return related_terms_list\n",
        "\n",
        "ip = get_relationship(user_ip, label_edge)\n",
        "print(ip)"
      ],
      "execution_count": 5,
      "outputs": [
        {
          "output_type": "stream",
          "name": "stdout",
          "text": [
            "[['kaushik', 'cricket', 'likes'], ['cricket', 'mangalore', 'is']]\n"
          ]
        }
      ]
    },
    {
      "cell_type": "code",
      "metadata": {
        "id": "dszzZHKe6NiQ",
        "colab": {
          "base_uri": "https://localhost:8080/",
          "height": 354
        },
        "outputId": "15a70718-4dbc-4d86-b1d9-4fe45384405a"
      },
      "source": [
        "import matplotlib.pyplot as plt\n",
        "import networkx as nx\n",
        "\n",
        "term = \"who\"\n",
        "input_ng = ip\n",
        "print(input_ng)\n",
        "label_edge = {}\n",
        "G = nx.DiGraph()\n",
        "for i in input_ng:\n",
        "    G.add_node(i[0])\n",
        "    G.add_node(i[1])\n",
        "    G.add_edge(i[0], i[1])\n",
        "    label_edge[(i[0], i[1])] = i[2]\n",
        "\n",
        "# for i in input_ng:\n",
        "#     G.add_node(i[0])\n",
        "#     G.add_node(i[1])\n",
        "#     G.add_edge(i[0], i[1])\n",
        "#     label_edge[(i[0], i[1])] = i[1]\n",
        "\n",
        "print(label_edge)\n",
        "pos = nx.spring_layout(G)\n",
        "plt.figure()\n",
        "nx.draw(G, with_labels=True, node_size=1000, node_color='cyan', node_shape='o') #with_labels to get the names\n",
        "nx.draw_networkx_edge_labels(G,pos ,edge_labels = label_edge, font_color='red')\n",
        "plt.show()"
      ],
      "execution_count": 6,
      "outputs": [
        {
          "output_type": "stream",
          "name": "stdout",
          "text": [
            "[['kaushik', 'cricket', 'likes'], ['cricket', 'mangalore', 'is']]\n",
            "{('kaushik', 'cricket'): 'likes', ('cricket', 'mangalore'): 'is'}\n"
          ]
        },
        {
          "output_type": "display_data",
          "data": {
            "text/plain": [
              "<Figure size 432x288 with 1 Axes>"
            ],
            "image/png": "[encoded data removed]"
          },
          "metadata": {}
        }
      ]
    },
    {
      "cell_type": "code",
      "metadata": {
        "id": "gR4-8WLukMct"
      },
      "source": [
        ""
      ],
      "execution_count": 6,
      "outputs": []
    }
  ]
}